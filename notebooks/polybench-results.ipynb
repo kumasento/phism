{
 "cells": [
  {
   "cell_type": "code",
   "execution_count": 1,
   "metadata": {},
   "outputs": [],
   "source": [
    "%load_ext autoreload\n",
    "%autoreload 2"
   ]
  },
  {
   "cell_type": "markdown",
   "metadata": {},
   "source": [
    "# Polybench Experimental Results\n",
    "\n",
    "This notebook puts together how we run Polybench experiments using the `pb-flow` script, and how we process the run results to get the formatted table."
   ]
  },
  {
   "cell_type": "markdown",
   "metadata": {},
   "source": [
    "## Setup\n",
    "\n",
    "We need to put the `python/` directory into the `PYTHONPATH`. "
   ]
  },
  {
   "cell_type": "code",
   "execution_count": 51,
   "metadata": {},
   "outputs": [],
   "source": [
    "import sys\n",
    "import os\n",
    "import pandas as pd\n",
    "\n",
    "sys.path.append(os.path.dirname(os.path.realpath(os.getcwd())))"
   ]
  },
  {
   "cell_type": "code",
   "execution_count": 3,
   "metadata": {},
   "outputs": [],
   "source": [
    "import python.utils.polybench as pb_utils"
   ]
  },
  {
   "cell_type": "code",
   "execution_count": 26,
   "metadata": {},
   "outputs": [
    {
     "data": {
      "text/plain": "30"
     },
     "execution_count": 26,
     "metadata": {},
     "output_type": "execute_result"
    }
   ],
   "source": [
    "len(pb_utils.discover_examples('./example/polybench'))"
   ]
  },
  {
   "cell_type": "markdown",
   "metadata": {},
   "source": [
    "## Run `pb-flow`"
   ]
  },
  {
   "cell_type": "code",
   "execution_count": 27,
   "metadata": {},
   "outputs": [
    {
     "name": "stdout",
     "output_type": "stream",
     "text": [
      ">>> Starting 30 jobs (work_dir=/mnt/ccnas2/bdp/rz3515/projects/phism/tmp/phism/pb-flow.20210526-213808) ...\n",
      ">>> Finished nussinov        elapsed: 128.082207 secs   Status: 0  Error: \"No Error\"\n",
      ">>> Finished trmm            elapsed: 145.170374 secs   Status: 1  Error: \"Phism syn failed.\"\n",
      ">>> Finished floyd-warshall  elapsed: 159.682429 secs   Status: 0  Error: \"No Error\"\n",
      ">>> Finished symm            elapsed: 225.433675 secs   Status: 1  Error: \"Cosim failed.\"\n",
      ">>> Finished gemver          elapsed: 226.973084 secs   Status: 1  Error: \"Cosim failed.\"\n",
      ">>> Finished jacobi-1d       elapsed: 231.589775 secs   Status: 0  Error: \"No Error\"\n",
      ">>> Finished syrk            elapsed: 234.785221 secs   Status: 1  Error: \"Cosim failed.\"\n",
      ">>> Finished atax            elapsed: 236.520079 secs   Status: 0  Error: \"No Error\"\n",
      ">>> Finished bicg            elapsed: 242.582957 secs   Status: 0  Error: \"No Error\"\n",
      ">>> Finished gesummv         elapsed: 244.647076 secs   Status: 0  Error: \"No Error\"\n",
      ">>> Finished mvt             elapsed: 245.532823 secs   Status: 0  Error: \"No Error\"\n",
      ">>> Finished syr2k           elapsed: 245.480719 secs   Status: 1  Error: \"Cosim failed.\"\n",
      ">>> Finished doitgen         elapsed: 254.256509 secs   Status: 0  Error: \"No Error\"\n",
      ">>> Finished gemm            elapsed: 255.662921 secs   Status: 1  Error: \"Cosim failed.\"\n",
      ">>> Finished trisolv         elapsed: 259.685521 secs   Status: 0  Error: \"No Error\"\n",
      ">>> Finished durbin          elapsed: 267.119232 secs   Status: 0  Error: \"No Error\"\n",
      ">>> Finished deriche         elapsed: 303.055404 secs   Status: 1  Error: \"Phism syn failed.\"\n",
      ">>> Finished 2mm             elapsed: 306.290087 secs   Status: 0  Error: \"No Error\"\n",
      ">>> Finished covariance      elapsed: 316.030936 secs   Status: 0  Error: \"No Error\"\n",
      ">>> Finished heat-3d         elapsed: 335.665093 secs   Status: 1  Error: \"Cosim failed.\"\n",
      ">>> Finished gramschmidt     elapsed: 336.004863 secs   Status: 1  Error: \"Cosim failed.\"\n",
      ">>> Finished 3mm             elapsed: 350.469378 secs   Status: 0  Error: \"No Error\"\n",
      ">>> Finished jacobi-2d       elapsed: 369.034524 secs   Status: 0  Error: \"No Error\"\n",
      ">>> Finished lu              elapsed: 371.109598 secs   Status: 1  Error: \"Cosim failed.\"\n",
      ">>> Finished correlation     elapsed: 387.946225 secs   Status: 0  Error: \"No Error\"\n",
      ">>> Finished fdtd-2d         elapsed: 398.003660 secs   Status: 0  Error: \"No Error\"\n",
      ">>> Finished ludcmp          elapsed: 406.395811 secs   Status: 0  Error: \"No Error\"\n",
      ">>> Finished cholesky        elapsed: 458.438687 secs   Status: 0  Error: \"No Error\"\n",
      ">>> Finished adi             elapsed: 1394.039826 secs   Status: 0  Error: \"No Error\"\n",
      ">>> Finished seidel-2d       elapsed: 1475.048954 secs   Status: 0  Error: \"No Error\"\n",
      "Elapsed time: 1475.321910 sec\n"
     ]
    }
   ],
   "source": [
    "pb_utils.pb_flow_runner(pb_utils.PbFlowOptions(**{\n",
    "  'pb_dir': os.path.join(pb_utils.get_project_root(), 'example', 'polybench'),\n",
    "  'job': 30,\n",
    "  'polymer': False,\n",
    "  'cosim': True,\n",
    "  'debug': True,\n",
    "  'dataset': 'MINI',\n",
    "  'cleanup': False\n",
    "}))"
   ]
  },
  {
   "cell_type": "code",
   "execution_count": 28,
   "metadata": {},
   "outputs": [
    {
     "name": "stdout",
     "output_type": "stream",
     "text": [
      ">>> Starting 30 jobs (work_dir=/mnt/ccnas2/bdp/rz3515/projects/phism/tmp/phism/pb-flow.20210526-220244) ...\n",
      ">>> Finished nussinov        elapsed: 132.667322 secs   Status: 0  Error: \"No Error\"\n",
      ">>> Finished floyd-warshall  elapsed: 135.752378 secs   Status: 0  Error: \"No Error\"\n",
      ">>> Finished atax            elapsed: 210.252998 secs   Status: 1  Error: \"Cosim failed.\"\n",
      ">>> Finished gemver          elapsed: 231.600569 secs   Status: 1  Error: \"Cosim failed.\"\n",
      ">>> Finished jacobi-1d       elapsed: 237.890159 secs   Status: 0  Error: \"No Error\"\n",
      ">>> Finished syrk            elapsed: 240.243255 secs   Status: 1  Error: \"Cosim failed.\"\n",
      ">>> Finished gesummv         elapsed: 242.762578 secs   Status: 0  Error: \"No Error\"\n",
      ">>> Finished mvt             elapsed: 243.398838 secs   Status: 0  Error: \"No Error\"\n",
      ">>> Finished bicg            elapsed: 249.500708 secs   Status: 0  Error: \"No Error\"\n",
      ">>> Finished syr2k           elapsed: 251.777076 secs   Status: 1  Error: \"Cosim failed.\"\n",
      ">>> Finished trmm            elapsed: 255.483906 secs   Status: 0  Error: \"No Error\"\n",
      ">>> Finished doitgen         elapsed: 258.575682 secs   Status: 0  Error: \"No Error\"\n",
      ">>> Finished trisolv         elapsed: 260.016913 secs   Status: 0  Error: \"No Error\"\n",
      ">>> Finished gemm            elapsed: 262.129265 secs   Status: 1  Error: \"Cosim failed.\"\n",
      ">>> Finished durbin          elapsed: 271.301778 secs   Status: 0  Error: \"No Error\"\n",
      ">>> Finished symm            elapsed: 275.495253 secs   Status: 0  Error: \"No Error\"\n",
      ">>> Finished deriche         elapsed: 310.513496 secs   Status: 1  Error: \"Phism syn failed.\"\n",
      ">>> Finished covariance      elapsed: 323.317760 secs   Status: 0  Error: \"No Error\"\n",
      ">>> Finished 2mm             elapsed: 323.486375 secs   Status: 0  Error: \"No Error\"\n",
      ">>> Finished gramschmidt     elapsed: 332.412060 secs   Status: 1  Error: \"Cosim failed.\"\n",
      ">>> Finished heat-3d         elapsed: 338.225474 secs   Status: 1  Error: \"Cosim failed.\"\n",
      ">>> Finished 3mm             elapsed: 365.969726 secs   Status: 0  Error: \"No Error\"\n",
      ">>> Finished cholesky        elapsed: 376.059215 secs   Status: 0  Error: \"No Error\"\n",
      ">>> Finished correlation     elapsed: 393.062444 secs   Status: 1  Error: \"Cosim failed.\"\n",
      ">>> Finished ludcmp          elapsed: 408.920447 secs   Status: 0  Error: \"No Error\"\n",
      ">>> Finished lu              elapsed: 481.604669 secs   Status: 0  Error: \"No Error\"\n",
      ">>> Finished fdtd-2d         elapsed: 558.023482 secs   Status: 1  Error: \"Cosim failed.\"\n",
      ">>> Finished jacobi-2d       elapsed: 632.675042 secs   Status: 0  Error: \"No Error\"\n",
      ">>> Finished adi             elapsed: 797.082031 secs   Status: 1  Error: \"Cosim failed.\"\n",
      ">>> Finished seidel-2d       elapsed: 1501.287447 secs   Status: 0  Error: \"No Error\"\n",
      "Elapsed time: 1501.527079 sec\n"
     ]
    }
   ],
   "source": [
    "pb_utils.pb_flow_runner(pb_utils.PbFlowOptions(**{\n",
    "  'pb_dir': os.path.join(pb_utils.get_project_root(), 'example', 'polybench'),\n",
    "  'job': 30,\n",
    "  'polymer': True,\n",
    "  'cosim': True,\n",
    "  'debug': True,\n",
    "  'dataset': 'MINI',\n",
    "  'cleanup': False\n",
    "}))"
   ]
  },
  {
   "cell_type": "markdown",
   "metadata": {},
   "source": [
    "## Results\n",
    "\n",
    "Here we list all the results as a table."
   ]
  },
  {
   "cell_type": "code",
   "execution_count": 38,
   "metadata": {},
   "outputs": [
    {
     "data": {
      "text/html": "<div>\n<style scoped>\n    .dataframe tbody tr th:only-of-type {\n        vertical-align: middle;\n    }\n\n    .dataframe tbody tr th {\n        vertical-align: top;\n    }\n\n    .dataframe thead th {\n        text-align: right;\n    }\n</style>\n<table border=\"1\" class=\"dataframe\">\n  <thead>\n    <tr style=\"text-align: right;\">\n      <th></th>\n      <th>name</th>\n      <th>phism_synth</th>\n      <th>tbgen_cosim</th>\n      <th>phism_cosim</th>\n      <th>latency</th>\n      <th>DSP_usage</th>\n      <th>FF_usage</th>\n      <th>LUT_usage</th>\n      <th>BRAM_18K_usage</th>\n      <th>URAM_usage</th>\n      <th>DSP_avail</th>\n      <th>FF_avail</th>\n      <th>LUT_avail</th>\n      <th>BRAM_18K_avail</th>\n      <th>URAM_avail</th>\n    </tr>\n  </thead>\n  <tbody>\n    <tr>\n      <th>0</th>\n      <td>2mm</td>\n      <td>SUCCESS</td>\n      <td>SUCCESS</td>\n      <td>SUCCESS</td>\n      <td>92642</td>\n      <td>14</td>\n      <td>2584</td>\n      <td>2985</td>\n      <td>0</td>\n      <td>0</td>\n      <td>220</td>\n      <td>106400</td>\n      <td>53200</td>\n      <td>280</td>\n      <td>0</td>\n    </tr>\n    <tr>\n      <th>1</th>\n      <td>3mm</td>\n      <td>SUCCESS</td>\n      <td>SUCCESS</td>\n      <td>SUCCESS</td>\n      <td>143531</td>\n      <td>16</td>\n      <td>3322</td>\n      <td>3499</td>\n      <td>0</td>\n      <td>0</td>\n      <td>220</td>\n      <td>106400</td>\n      <td>53200</td>\n      <td>280</td>\n      <td>0</td>\n    </tr>\n    <tr>\n      <th>2</th>\n      <td>adi</td>\n      <td>SUCCESS</td>\n      <td>SUCCESS</td>\n      <td>SUCCESS</td>\n      <td>782432</td>\n      <td>34</td>\n      <td>6748</td>\n      <td>9026</td>\n      <td>0</td>\n      <td>0</td>\n      <td>220</td>\n      <td>106400</td>\n      <td>53200</td>\n      <td>280</td>\n      <td>0</td>\n    </tr>\n    <tr>\n      <th>3</th>\n      <td>atax</td>\n      <td>SUCCESS</td>\n      <td>SUCCESS</td>\n      <td>SUCCESS</td>\n      <td>12243</td>\n      <td>14</td>\n      <td>1641</td>\n      <td>2204</td>\n      <td>0</td>\n      <td>0</td>\n      <td>220</td>\n      <td>106400</td>\n      <td>53200</td>\n      <td>280</td>\n      <td>0</td>\n    </tr>\n    <tr>\n      <th>4</th>\n      <td>bicg</td>\n      <td>SUCCESS</td>\n      <td>SUCCESS</td>\n      <td>SUCCESS</td>\n      <td>10163</td>\n      <td>14</td>\n      <td>1745</td>\n      <td>2125</td>\n      <td>0</td>\n      <td>0</td>\n      <td>220</td>\n      <td>106400</td>\n      <td>53200</td>\n      <td>280</td>\n      <td>0</td>\n    </tr>\n    <tr>\n      <th>5</th>\n      <td>cholesky</td>\n      <td>SUCCESS</td>\n      <td>SUCCESS</td>\n      <td>SUCCESS</td>\n      <td>277039</td>\n      <td>20</td>\n      <td>15169</td>\n      <td>13431</td>\n      <td>0</td>\n      <td>0</td>\n      <td>220</td>\n      <td>106400</td>\n      <td>53200</td>\n      <td>280</td>\n      <td>0</td>\n    </tr>\n    <tr>\n      <th>6</th>\n      <td>correlation</td>\n      <td>SUCCESS</td>\n      <td>SUCCESS</td>\n      <td>SUCCESS</td>\n      <td>126261</td>\n      <td>15</td>\n      <td>3406</td>\n      <td>4256</td>\n      <td>0</td>\n      <td>0</td>\n      <td>220</td>\n      <td>106400</td>\n      <td>53200</td>\n      <td>280</td>\n      <td>0</td>\n    </tr>\n    <tr>\n      <th>7</th>\n      <td>covariance</td>\n      <td>SUCCESS</td>\n      <td>SUCCESS</td>\n      <td>SUCCESS</td>\n      <td>109464</td>\n      <td>14</td>\n      <td>2685</td>\n      <td>3282</td>\n      <td>0</td>\n      <td>0</td>\n      <td>220</td>\n      <td>106400</td>\n      <td>53200</td>\n      <td>280</td>\n      <td>0</td>\n    </tr>\n    <tr>\n      <th>8</th>\n      <td>deriche</td>\n      <td>CANNOT_SYNTH</td>\n      <td>SUCCESS</td>\n      <td>NO_LOG</td>\n      <td>237664</td>\n      <td>None</td>\n      <td>None</td>\n      <td>None</td>\n      <td>None</td>\n      <td>None</td>\n      <td>None</td>\n      <td>None</td>\n      <td>None</td>\n      <td>None</td>\n      <td>None</td>\n    </tr>\n    <tr>\n      <th>9</th>\n      <td>doitgen</td>\n      <td>SUCCESS</td>\n      <td>SUCCESS</td>\n      <td>SUCCESS</td>\n      <td>81041</td>\n      <td>14</td>\n      <td>1704</td>\n      <td>2395</td>\n      <td>0</td>\n      <td>0</td>\n      <td>220</td>\n      <td>106400</td>\n      <td>53200</td>\n      <td>280</td>\n      <td>0</td>\n    </tr>\n    <tr>\n      <th>10</th>\n      <td>durbin</td>\n      <td>SUCCESS</td>\n      <td>SUCCESS</td>\n      <td>SUCCESS</td>\n      <td>5462</td>\n      <td>16</td>\n      <td>2440</td>\n      <td>3690</td>\n      <td>2</td>\n      <td>0</td>\n      <td>220</td>\n      <td>106400</td>\n      <td>53200</td>\n      <td>280</td>\n      <td>0</td>\n    </tr>\n    <tr>\n      <th>11</th>\n      <td>fdtd-2d</td>\n      <td>SUCCESS</td>\n      <td>SUCCESS</td>\n      <td>SUCCESS</td>\n      <td>274142</td>\n      <td>14</td>\n      <td>4332</td>\n      <td>4100</td>\n      <td>0</td>\n      <td>0</td>\n      <td>220</td>\n      <td>106400</td>\n      <td>53200</td>\n      <td>280</td>\n      <td>0</td>\n    </tr>\n    <tr>\n      <th>12</th>\n      <td>floyd-warshall</td>\n      <td>SUCCESS</td>\n      <td>SUCCESS</td>\n      <td>SUCCESS</td>\n      <td>432081</td>\n      <td>16</td>\n      <td>24093</td>\n      <td>18062</td>\n      <td>0</td>\n      <td>0</td>\n      <td>220</td>\n      <td>106400</td>\n      <td>53200</td>\n      <td>280</td>\n      <td>0</td>\n    </tr>\n    <tr>\n      <th>13</th>\n      <td>gemm</td>\n      <td>SUCCESS</td>\n      <td>SUCCESS</td>\n      <td>COSIM_FAILED</td>\n      <td>None</td>\n      <td>15</td>\n      <td>2415</td>\n      <td>2665</td>\n      <td>0</td>\n      <td>0</td>\n      <td>220</td>\n      <td>106400</td>\n      <td>53200</td>\n      <td>280</td>\n      <td>0</td>\n    </tr>\n    <tr>\n      <th>14</th>\n      <td>gemver</td>\n      <td>SUCCESS</td>\n      <td>SUCCESS</td>\n      <td>COSIM_FAILED</td>\n      <td>None</td>\n      <td>14</td>\n      <td>2901</td>\n      <td>2981</td>\n      <td>0</td>\n      <td>0</td>\n      <td>220</td>\n      <td>106400</td>\n      <td>53200</td>\n      <td>280</td>\n      <td>0</td>\n    </tr>\n    <tr>\n      <th>15</th>\n      <td>gesummv</td>\n      <td>SUCCESS</td>\n      <td>SUCCESS</td>\n      <td>SUCCESS</td>\n      <td>6151</td>\n      <td>25</td>\n      <td>2085</td>\n      <td>2666</td>\n      <td>0</td>\n      <td>0</td>\n      <td>220</td>\n      <td>106400</td>\n      <td>53200</td>\n      <td>280</td>\n      <td>0</td>\n    </tr>\n    <tr>\n      <th>16</th>\n      <td>gramschmidt</td>\n      <td>SUCCESS</td>\n      <td>SUCCESS</td>\n      <td>COSIM_FAILED</td>\n      <td>None</td>\n      <td>14</td>\n      <td>2590</td>\n      <td>3008</td>\n      <td>0</td>\n      <td>0</td>\n      <td>220</td>\n      <td>106400</td>\n      <td>53200</td>\n      <td>280</td>\n      <td>0</td>\n    </tr>\n    <tr>\n      <th>17</th>\n      <td>heat-3d</td>\n      <td>SUCCESS</td>\n      <td>SUCCESS</td>\n      <td>COSIM_FAILED</td>\n      <td>None</td>\n      <td>20</td>\n      <td>4836</td>\n      <td>5521</td>\n      <td>0</td>\n      <td>0</td>\n      <td>220</td>\n      <td>106400</td>\n      <td>53200</td>\n      <td>280</td>\n      <td>0</td>\n    </tr>\n    <tr>\n      <th>18</th>\n      <td>jacobi-1d</td>\n      <td>SUCCESS</td>\n      <td>SUCCESS</td>\n      <td>SUCCESS</td>\n      <td>3141</td>\n      <td>14</td>\n      <td>2095</td>\n      <td>2307</td>\n      <td>0</td>\n      <td>0</td>\n      <td>220</td>\n      <td>106400</td>\n      <td>53200</td>\n      <td>280</td>\n      <td>0</td>\n    </tr>\n    <tr>\n      <th>19</th>\n      <td>jacobi-2d</td>\n      <td>SUCCESS</td>\n      <td>SUCCESS</td>\n      <td>SUCCESS</td>\n      <td>134461</td>\n      <td>17</td>\n      <td>3233</td>\n      <td>3854</td>\n      <td>0</td>\n      <td>0</td>\n      <td>220</td>\n      <td>106400</td>\n      <td>53200</td>\n      <td>280</td>\n      <td>0</td>\n    </tr>\n    <tr>\n      <th>20</th>\n      <td>lu</td>\n      <td>SUCCESS</td>\n      <td>SUCCESS</td>\n      <td>COSIM_FAILED</td>\n      <td>None</td>\n      <td>16</td>\n      <td>3501</td>\n      <td>3855</td>\n      <td>0</td>\n      <td>0</td>\n      <td>220</td>\n      <td>106400</td>\n      <td>53200</td>\n      <td>280</td>\n      <td>0</td>\n    </tr>\n    <tr>\n      <th>21</th>\n      <td>ludcmp</td>\n      <td>SUCCESS</td>\n      <td>SUCCESS</td>\n      <td>SUCCESS</td>\n      <td>179641</td>\n      <td>14</td>\n      <td>2740</td>\n      <td>3453</td>\n      <td>0</td>\n      <td>0</td>\n      <td>220</td>\n      <td>106400</td>\n      <td>53200</td>\n      <td>280</td>\n      <td>0</td>\n    </tr>\n    <tr>\n      <th>22</th>\n      <td>mvt</td>\n      <td>SUCCESS</td>\n      <td>SUCCESS</td>\n      <td>SUCCESS</td>\n      <td>20162</td>\n      <td>14</td>\n      <td>1615</td>\n      <td>2253</td>\n      <td>0</td>\n      <td>0</td>\n      <td>220</td>\n      <td>106400</td>\n      <td>53200</td>\n      <td>280</td>\n      <td>0</td>\n    </tr>\n    <tr>\n      <th>23</th>\n      <td>nussinov</td>\n      <td>SUCCESS</td>\n      <td>SUCCESS</td>\n      <td>SUCCESS</td>\n      <td>91572</td>\n      <td>0</td>\n      <td>1186</td>\n      <td>1637</td>\n      <td>0</td>\n      <td>0</td>\n      <td>220</td>\n      <td>106400</td>\n      <td>53200</td>\n      <td>280</td>\n      <td>0</td>\n    </tr>\n    <tr>\n      <th>24</th>\n      <td>seidel-2d</td>\n      <td>SUCCESS</td>\n      <td>SUCCESS</td>\n      <td>SUCCESS</td>\n      <td>2547522</td>\n      <td>3</td>\n      <td>2205</td>\n      <td>2887</td>\n      <td>0</td>\n      <td>0</td>\n      <td>220</td>\n      <td>106400</td>\n      <td>53200</td>\n      <td>280</td>\n      <td>0</td>\n    </tr>\n    <tr>\n      <th>25</th>\n      <td>symm</td>\n      <td>SUCCESS</td>\n      <td>SUCCESS</td>\n      <td>COSIM_FAILED</td>\n      <td>None</td>\n      <td>16</td>\n      <td>2629</td>\n      <td>3682</td>\n      <td>0</td>\n      <td>0</td>\n      <td>220</td>\n      <td>106400</td>\n      <td>53200</td>\n      <td>280</td>\n      <td>0</td>\n    </tr>\n    <tr>\n      <th>26</th>\n      <td>syr2k</td>\n      <td>SUCCESS</td>\n      <td>SUCCESS</td>\n      <td>COSIM_FAILED</td>\n      <td>None</td>\n      <td>14</td>\n      <td>2789</td>\n      <td>2741</td>\n      <td>0</td>\n      <td>0</td>\n      <td>220</td>\n      <td>106400</td>\n      <td>53200</td>\n      <td>280</td>\n      <td>0</td>\n    </tr>\n    <tr>\n      <th>27</th>\n      <td>syrk</td>\n      <td>SUCCESS</td>\n      <td>SUCCESS</td>\n      <td>COSIM_FAILED</td>\n      <td>None</td>\n      <td>14</td>\n      <td>2458</td>\n      <td>2703</td>\n      <td>0</td>\n      <td>0</td>\n      <td>220</td>\n      <td>106400</td>\n      <td>53200</td>\n      <td>280</td>\n      <td>0</td>\n    </tr>\n    <tr>\n      <th>28</th>\n      <td>trisolv</td>\n      <td>SUCCESS</td>\n      <td>SUCCESS</td>\n      <td>SUCCESS</td>\n      <td>6512</td>\n      <td>14</td>\n      <td>1508</td>\n      <td>2116</td>\n      <td>0</td>\n      <td>0</td>\n      <td>220</td>\n      <td>106400</td>\n      <td>53200</td>\n      <td>280</td>\n      <td>0</td>\n    </tr>\n    <tr>\n      <th>29</th>\n      <td>trmm</td>\n      <td>CANNOT_SYNTH</td>\n      <td>SUCCESS</td>\n      <td>NO_LOG</td>\n      <td>56191</td>\n      <td>None</td>\n      <td>None</td>\n      <td>None</td>\n      <td>None</td>\n      <td>None</td>\n      <td>None</td>\n      <td>None</td>\n      <td>None</td>\n      <td>None</td>\n      <td>None</td>\n    </tr>\n  </tbody>\n</table>\n</div>",
      "text/plain": "              name   phism_synth tbgen_cosim   phism_cosim  latency DSP_usage  \\\n0              2mm       SUCCESS     SUCCESS       SUCCESS    92642        14   \n1              3mm       SUCCESS     SUCCESS       SUCCESS   143531        16   \n2              adi       SUCCESS     SUCCESS       SUCCESS   782432        34   \n3             atax       SUCCESS     SUCCESS       SUCCESS    12243        14   \n4             bicg       SUCCESS     SUCCESS       SUCCESS    10163        14   \n5         cholesky       SUCCESS     SUCCESS       SUCCESS   277039        20   \n6      correlation       SUCCESS     SUCCESS       SUCCESS   126261        15   \n7       covariance       SUCCESS     SUCCESS       SUCCESS   109464        14   \n8          deriche  CANNOT_SYNTH     SUCCESS        NO_LOG   237664      None   \n9          doitgen       SUCCESS     SUCCESS       SUCCESS    81041        14   \n10          durbin       SUCCESS     SUCCESS       SUCCESS     5462        16   \n11         fdtd-2d       SUCCESS     SUCCESS       SUCCESS   274142        14   \n12  floyd-warshall       SUCCESS     SUCCESS       SUCCESS   432081        16   \n13            gemm       SUCCESS     SUCCESS  COSIM_FAILED     None        15   \n14          gemver       SUCCESS     SUCCESS  COSIM_FAILED     None        14   \n15         gesummv       SUCCESS     SUCCESS       SUCCESS     6151        25   \n16     gramschmidt       SUCCESS     SUCCESS  COSIM_FAILED     None        14   \n17         heat-3d       SUCCESS     SUCCESS  COSIM_FAILED     None        20   \n18       jacobi-1d       SUCCESS     SUCCESS       SUCCESS     3141        14   \n19       jacobi-2d       SUCCESS     SUCCESS       SUCCESS   134461        17   \n20              lu       SUCCESS     SUCCESS  COSIM_FAILED     None        16   \n21          ludcmp       SUCCESS     SUCCESS       SUCCESS   179641        14   \n22             mvt       SUCCESS     SUCCESS       SUCCESS    20162        14   \n23        nussinov       SUCCESS     SUCCESS       SUCCESS    91572         0   \n24       seidel-2d       SUCCESS     SUCCESS       SUCCESS  2547522         3   \n25            symm       SUCCESS     SUCCESS  COSIM_FAILED     None        16   \n26           syr2k       SUCCESS     SUCCESS  COSIM_FAILED     None        14   \n27            syrk       SUCCESS     SUCCESS  COSIM_FAILED     None        14   \n28         trisolv       SUCCESS     SUCCESS       SUCCESS     6512        14   \n29            trmm  CANNOT_SYNTH     SUCCESS        NO_LOG    56191      None   \n\n   FF_usage LUT_usage BRAM_18K_usage URAM_usage DSP_avail FF_avail LUT_avail  \\\n0      2584      2985              0          0       220   106400     53200   \n1      3322      3499              0          0       220   106400     53200   \n2      6748      9026              0          0       220   106400     53200   \n3      1641      2204              0          0       220   106400     53200   \n4      1745      2125              0          0       220   106400     53200   \n5     15169     13431              0          0       220   106400     53200   \n6      3406      4256              0          0       220   106400     53200   \n7      2685      3282              0          0       220   106400     53200   \n8      None      None           None       None      None     None      None   \n9      1704      2395              0          0       220   106400     53200   \n10     2440      3690              2          0       220   106400     53200   \n11     4332      4100              0          0       220   106400     53200   \n12    24093     18062              0          0       220   106400     53200   \n13     2415      2665              0          0       220   106400     53200   \n14     2901      2981              0          0       220   106400     53200   \n15     2085      2666              0          0       220   106400     53200   \n16     2590      3008              0          0       220   106400     53200   \n17     4836      5521              0          0       220   106400     53200   \n18     2095      2307              0          0       220   106400     53200   \n19     3233      3854              0          0       220   106400     53200   \n20     3501      3855              0          0       220   106400     53200   \n21     2740      3453              0          0       220   106400     53200   \n22     1615      2253              0          0       220   106400     53200   \n23     1186      1637              0          0       220   106400     53200   \n24     2205      2887              0          0       220   106400     53200   \n25     2629      3682              0          0       220   106400     53200   \n26     2789      2741              0          0       220   106400     53200   \n27     2458      2703              0          0       220   106400     53200   \n28     1508      2116              0          0       220   106400     53200   \n29     None      None           None       None      None     None      None   \n\n   BRAM_18K_avail URAM_avail  \n0             280          0  \n1             280          0  \n2             280          0  \n3             280          0  \n4             280          0  \n5             280          0  \n6             280          0  \n7             280          0  \n8            None       None  \n9             280          0  \n10            280          0  \n11            280          0  \n12            280          0  \n13            280          0  \n14            280          0  \n15            280          0  \n16            280          0  \n17            280          0  \n18            280          0  \n19            280          0  \n20            280          0  \n21            280          0  \n22            280          0  \n23            280          0  \n24            280          0  \n25            280          0  \n26            280          0  \n27            280          0  \n28            280          0  \n29           None       None  "
     },
     "execution_count": 38,
     "metadata": {},
     "output_type": "execute_result"
    }
   ],
   "source": [
    "baseline = pb_utils.to_pandas(pb_utils.process_pb_flow_result_dir(os.path.join(os.getcwd(), 'tmp', 'phism', 'pb-flow.20210526-213808')))\n",
    "baseline"
   ]
  },
  {
   "cell_type": "code",
   "execution_count": 40,
   "metadata": {},
   "outputs": [
    {
     "data": {
      "text/html": "<div>\n<style scoped>\n    .dataframe tbody tr th:only-of-type {\n        vertical-align: middle;\n    }\n\n    .dataframe tbody tr th {\n        vertical-align: top;\n    }\n\n    .dataframe thead th {\n        text-align: right;\n    }\n</style>\n<table border=\"1\" class=\"dataframe\">\n  <thead>\n    <tr style=\"text-align: right;\">\n      <th></th>\n      <th>name</th>\n      <th>phism_synth</th>\n      <th>tbgen_cosim</th>\n      <th>phism_cosim</th>\n      <th>latency</th>\n      <th>DSP_usage</th>\n      <th>FF_usage</th>\n      <th>LUT_usage</th>\n      <th>BRAM_18K_usage</th>\n      <th>URAM_usage</th>\n      <th>DSP_avail</th>\n      <th>FF_avail</th>\n      <th>LUT_avail</th>\n      <th>BRAM_18K_avail</th>\n      <th>URAM_avail</th>\n    </tr>\n  </thead>\n  <tbody>\n    <tr>\n      <th>0</th>\n      <td>2mm</td>\n      <td>SUCCESS</td>\n      <td>SUCCESS</td>\n      <td>SUCCESS</td>\n      <td>108895</td>\n      <td>54</td>\n      <td>17995</td>\n      <td>16711</td>\n      <td>0</td>\n      <td>0</td>\n      <td>220</td>\n      <td>106400</td>\n      <td>53200</td>\n      <td>280</td>\n      <td>0</td>\n    </tr>\n    <tr>\n      <th>1</th>\n      <td>3mm</td>\n      <td>SUCCESS</td>\n      <td>SUCCESS</td>\n      <td>SUCCESS</td>\n      <td>173643</td>\n      <td>84</td>\n      <td>24775</td>\n      <td>25744</td>\n      <td>0</td>\n      <td>0</td>\n      <td>220</td>\n      <td>106400</td>\n      <td>53200</td>\n      <td>280</td>\n      <td>0</td>\n    </tr>\n    <tr>\n      <th>2</th>\n      <td>adi</td>\n      <td>SUCCESS</td>\n      <td>SUCCESS</td>\n      <td>COSIM_FAILED</td>\n      <td>None</td>\n      <td>47</td>\n      <td>10752</td>\n      <td>13021</td>\n      <td>0</td>\n      <td>0</td>\n      <td>220</td>\n      <td>106400</td>\n      <td>53200</td>\n      <td>280</td>\n      <td>0</td>\n    </tr>\n    <tr>\n      <th>3</th>\n      <td>atax</td>\n      <td>SUCCESS</td>\n      <td>SUCCESS</td>\n      <td>COSIM_FAILED</td>\n      <td>None</td>\n      <td>20</td>\n      <td>5870</td>\n      <td>6664</td>\n      <td>0</td>\n      <td>0</td>\n      <td>220</td>\n      <td>106400</td>\n      <td>53200</td>\n      <td>280</td>\n      <td>0</td>\n    </tr>\n    <tr>\n      <th>4</th>\n      <td>bicg</td>\n      <td>SUCCESS</td>\n      <td>SUCCESS</td>\n      <td>SUCCESS</td>\n      <td>23798</td>\n      <td>20</td>\n      <td>5896</td>\n      <td>6660</td>\n      <td>0</td>\n      <td>0</td>\n      <td>220</td>\n      <td>106400</td>\n      <td>53200</td>\n      <td>280</td>\n      <td>0</td>\n    </tr>\n    <tr>\n      <th>5</th>\n      <td>cholesky</td>\n      <td>SUCCESS</td>\n      <td>SUCCESS</td>\n      <td>SUCCESS</td>\n      <td>124925</td>\n      <td>20</td>\n      <td>5832</td>\n      <td>7985</td>\n      <td>0</td>\n      <td>0</td>\n      <td>220</td>\n      <td>106400</td>\n      <td>53200</td>\n      <td>280</td>\n      <td>0</td>\n    </tr>\n    <tr>\n      <th>6</th>\n      <td>correlation</td>\n      <td>SUCCESS</td>\n      <td>SUCCESS</td>\n      <td>COSIM_FAILED</td>\n      <td>None</td>\n      <td>29</td>\n      <td>14751</td>\n      <td>16201</td>\n      <td>0</td>\n      <td>0</td>\n      <td>220</td>\n      <td>106400</td>\n      <td>53200</td>\n      <td>280</td>\n      <td>0</td>\n    </tr>\n    <tr>\n      <th>7</th>\n      <td>covariance</td>\n      <td>SUCCESS</td>\n      <td>SUCCESS</td>\n      <td>SUCCESS</td>\n      <td>134618</td>\n      <td>42</td>\n      <td>15810</td>\n      <td>16816</td>\n      <td>0</td>\n      <td>0</td>\n      <td>220</td>\n      <td>106400</td>\n      <td>53200</td>\n      <td>280</td>\n      <td>0</td>\n    </tr>\n    <tr>\n      <th>8</th>\n      <td>deriche</td>\n      <td>CANNOT_SYNTH</td>\n      <td>SUCCESS</td>\n      <td>NO_LOG</td>\n      <td>237664</td>\n      <td>None</td>\n      <td>None</td>\n      <td>None</td>\n      <td>None</td>\n      <td>None</td>\n      <td>None</td>\n      <td>None</td>\n      <td>None</td>\n      <td>None</td>\n      <td>None</td>\n    </tr>\n    <tr>\n      <th>9</th>\n      <td>doitgen</td>\n      <td>SUCCESS</td>\n      <td>SUCCESS</td>\n      <td>SUCCESS</td>\n      <td>96242</td>\n      <td>16</td>\n      <td>3874</td>\n      <td>4697</td>\n      <td>0</td>\n      <td>0</td>\n      <td>220</td>\n      <td>106400</td>\n      <td>53200</td>\n      <td>280</td>\n      <td>0</td>\n    </tr>\n    <tr>\n      <th>10</th>\n      <td>durbin</td>\n      <td>SUCCESS</td>\n      <td>SUCCESS</td>\n      <td>SUCCESS</td>\n      <td>9847</td>\n      <td>14</td>\n      <td>2807</td>\n      <td>3165</td>\n      <td>2</td>\n      <td>0</td>\n      <td>220</td>\n      <td>106400</td>\n      <td>53200</td>\n      <td>280</td>\n      <td>0</td>\n    </tr>\n    <tr>\n      <th>11</th>\n      <td>fdtd-2d</td>\n      <td>SUCCESS</td>\n      <td>SUCCESS</td>\n      <td>COSIM_FAILED</td>\n      <td>None</td>\n      <td>27</td>\n      <td>68166</td>\n      <td>71276</td>\n      <td>0</td>\n      <td>0</td>\n      <td>220</td>\n      <td>106400</td>\n      <td>53200</td>\n      <td>280</td>\n      <td>0</td>\n    </tr>\n    <tr>\n      <th>12</th>\n      <td>floyd-warshall</td>\n      <td>SUCCESS</td>\n      <td>SUCCESS</td>\n      <td>SUCCESS</td>\n      <td>434885</td>\n      <td>5</td>\n      <td>2898</td>\n      <td>2856</td>\n      <td>0</td>\n      <td>0</td>\n      <td>220</td>\n      <td>106400</td>\n      <td>53200</td>\n      <td>280</td>\n      <td>0</td>\n    </tr>\n    <tr>\n      <th>13</th>\n      <td>gemm</td>\n      <td>SUCCESS</td>\n      <td>SUCCESS</td>\n      <td>COSIM_FAILED</td>\n      <td>None</td>\n      <td>34</td>\n      <td>8249</td>\n      <td>8105</td>\n      <td>0</td>\n      <td>0</td>\n      <td>220</td>\n      <td>106400</td>\n      <td>53200</td>\n      <td>280</td>\n      <td>0</td>\n    </tr>\n    <tr>\n      <th>14</th>\n      <td>gemver</td>\n      <td>SUCCESS</td>\n      <td>SUCCESS</td>\n      <td>COSIM_FAILED</td>\n      <td>None</td>\n      <td>18</td>\n      <td>6068</td>\n      <td>5960</td>\n      <td>0</td>\n      <td>0</td>\n      <td>220</td>\n      <td>106400</td>\n      <td>53200</td>\n      <td>280</td>\n      <td>0</td>\n    </tr>\n    <tr>\n      <th>15</th>\n      <td>gesummv</td>\n      <td>SUCCESS</td>\n      <td>SUCCESS</td>\n      <td>SUCCESS</td>\n      <td>6289</td>\n      <td>16</td>\n      <td>3791</td>\n      <td>4041</td>\n      <td>0</td>\n      <td>0</td>\n      <td>220</td>\n      <td>106400</td>\n      <td>53200</td>\n      <td>280</td>\n      <td>0</td>\n    </tr>\n    <tr>\n      <th>16</th>\n      <td>gramschmidt</td>\n      <td>SUCCESS</td>\n      <td>SUCCESS</td>\n      <td>COSIM_FAILED</td>\n      <td>None</td>\n      <td>22</td>\n      <td>7160</td>\n      <td>7741</td>\n      <td>0</td>\n      <td>0</td>\n      <td>220</td>\n      <td>106400</td>\n      <td>53200</td>\n      <td>280</td>\n      <td>0</td>\n    </tr>\n    <tr>\n      <th>17</th>\n      <td>heat-3d</td>\n      <td>SUCCESS</td>\n      <td>SUCCESS</td>\n      <td>COSIM_FAILED</td>\n      <td>None</td>\n      <td>135</td>\n      <td>105115</td>\n      <td>106030</td>\n      <td>0</td>\n      <td>0</td>\n      <td>220</td>\n      <td>106400</td>\n      <td>53200</td>\n      <td>280</td>\n      <td>0</td>\n    </tr>\n    <tr>\n      <th>18</th>\n      <td>jacobi-1d</td>\n      <td>SUCCESS</td>\n      <td>SUCCESS</td>\n      <td>SUCCESS</td>\n      <td>19800</td>\n      <td>14</td>\n      <td>8250</td>\n      <td>12755</td>\n      <td>0</td>\n      <td>0</td>\n      <td>220</td>\n      <td>106400</td>\n      <td>53200</td>\n      <td>280</td>\n      <td>0</td>\n    </tr>\n    <tr>\n      <th>19</th>\n      <td>jacobi-2d</td>\n      <td>SUCCESS</td>\n      <td>SUCCESS</td>\n      <td>SUCCESS</td>\n      <td>1106347</td>\n      <td>25</td>\n      <td>42039</td>\n      <td>48485</td>\n      <td>0</td>\n      <td>0</td>\n      <td>220</td>\n      <td>106400</td>\n      <td>53200</td>\n      <td>280</td>\n      <td>0</td>\n    </tr>\n    <tr>\n      <th>20</th>\n      <td>lu</td>\n      <td>SUCCESS</td>\n      <td>SUCCESS</td>\n      <td>SUCCESS</td>\n      <td>209626</td>\n      <td>29</td>\n      <td>13138</td>\n      <td>14273</td>\n      <td>0</td>\n      <td>0</td>\n      <td>220</td>\n      <td>106400</td>\n      <td>53200</td>\n      <td>280</td>\n      <td>0</td>\n    </tr>\n    <tr>\n      <th>21</th>\n      <td>ludcmp</td>\n      <td>SUCCESS</td>\n      <td>SUCCESS</td>\n      <td>SUCCESS</td>\n      <td>180811</td>\n      <td>16</td>\n      <td>3725</td>\n      <td>4923</td>\n      <td>0</td>\n      <td>0</td>\n      <td>220</td>\n      <td>106400</td>\n      <td>53200</td>\n      <td>280</td>\n      <td>0</td>\n    </tr>\n    <tr>\n      <th>22</th>\n      <td>mvt</td>\n      <td>SUCCESS</td>\n      <td>SUCCESS</td>\n      <td>SUCCESS</td>\n      <td>10737</td>\n      <td>16</td>\n      <td>3142</td>\n      <td>3377</td>\n      <td>0</td>\n      <td>0</td>\n      <td>220</td>\n      <td>106400</td>\n      <td>53200</td>\n      <td>280</td>\n      <td>0</td>\n    </tr>\n    <tr>\n      <th>23</th>\n      <td>nussinov</td>\n      <td>SUCCESS</td>\n      <td>SUCCESS</td>\n      <td>SUCCESS</td>\n      <td>92262</td>\n      <td>5</td>\n      <td>5310</td>\n      <td>7641</td>\n      <td>0</td>\n      <td>0</td>\n      <td>220</td>\n      <td>106400</td>\n      <td>53200</td>\n      <td>280</td>\n      <td>0</td>\n    </tr>\n    <tr>\n      <th>24</th>\n      <td>seidel-2d</td>\n      <td>SUCCESS</td>\n      <td>SUCCESS</td>\n      <td>SUCCESS</td>\n      <td>2559789</td>\n      <td>5</td>\n      <td>7708</td>\n      <td>10203</td>\n      <td>0</td>\n      <td>0</td>\n      <td>220</td>\n      <td>106400</td>\n      <td>53200</td>\n      <td>280</td>\n      <td>0</td>\n    </tr>\n    <tr>\n      <th>25</th>\n      <td>symm</td>\n      <td>SUCCESS</td>\n      <td>SUCCESS</td>\n      <td>SUCCESS</td>\n      <td>71922</td>\n      <td>39</td>\n      <td>4437</td>\n      <td>5760</td>\n      <td>0</td>\n      <td>0</td>\n      <td>220</td>\n      <td>106400</td>\n      <td>53200</td>\n      <td>280</td>\n      <td>0</td>\n    </tr>\n    <tr>\n      <th>26</th>\n      <td>syr2k</td>\n      <td>SUCCESS</td>\n      <td>SUCCESS</td>\n      <td>COSIM_FAILED</td>\n      <td>None</td>\n      <td>21</td>\n      <td>6166</td>\n      <td>5919</td>\n      <td>0</td>\n      <td>0</td>\n      <td>220</td>\n      <td>106400</td>\n      <td>53200</td>\n      <td>280</td>\n      <td>0</td>\n    </tr>\n    <tr>\n      <th>27</th>\n      <td>syrk</td>\n      <td>SUCCESS</td>\n      <td>SUCCESS</td>\n      <td>COSIM_FAILED</td>\n      <td>None</td>\n      <td>21</td>\n      <td>5844</td>\n      <td>5885</td>\n      <td>0</td>\n      <td>0</td>\n      <td>220</td>\n      <td>106400</td>\n      <td>53200</td>\n      <td>280</td>\n      <td>0</td>\n    </tr>\n    <tr>\n      <th>28</th>\n      <td>trisolv</td>\n      <td>SUCCESS</td>\n      <td>SUCCESS</td>\n      <td>SUCCESS</td>\n      <td>8197</td>\n      <td>15</td>\n      <td>3036</td>\n      <td>3921</td>\n      <td>0</td>\n      <td>0</td>\n      <td>220</td>\n      <td>106400</td>\n      <td>53200</td>\n      <td>280</td>\n      <td>0</td>\n    </tr>\n    <tr>\n      <th>29</th>\n      <td>trmm</td>\n      <td>SUCCESS</td>\n      <td>SUCCESS</td>\n      <td>SUCCESS</td>\n      <td>50147</td>\n      <td>22</td>\n      <td>6976</td>\n      <td>7571</td>\n      <td>0</td>\n      <td>0</td>\n      <td>220</td>\n      <td>106400</td>\n      <td>53200</td>\n      <td>280</td>\n      <td>0</td>\n    </tr>\n  </tbody>\n</table>\n</div>",
      "text/plain": "              name   phism_synth tbgen_cosim   phism_cosim  latency DSP_usage  \\\n0              2mm       SUCCESS     SUCCESS       SUCCESS   108895        54   \n1              3mm       SUCCESS     SUCCESS       SUCCESS   173643        84   \n2              adi       SUCCESS     SUCCESS  COSIM_FAILED     None        47   \n3             atax       SUCCESS     SUCCESS  COSIM_FAILED     None        20   \n4             bicg       SUCCESS     SUCCESS       SUCCESS    23798        20   \n5         cholesky       SUCCESS     SUCCESS       SUCCESS   124925        20   \n6      correlation       SUCCESS     SUCCESS  COSIM_FAILED     None        29   \n7       covariance       SUCCESS     SUCCESS       SUCCESS   134618        42   \n8          deriche  CANNOT_SYNTH     SUCCESS        NO_LOG   237664      None   \n9          doitgen       SUCCESS     SUCCESS       SUCCESS    96242        16   \n10          durbin       SUCCESS     SUCCESS       SUCCESS     9847        14   \n11         fdtd-2d       SUCCESS     SUCCESS  COSIM_FAILED     None        27   \n12  floyd-warshall       SUCCESS     SUCCESS       SUCCESS   434885         5   \n13            gemm       SUCCESS     SUCCESS  COSIM_FAILED     None        34   \n14          gemver       SUCCESS     SUCCESS  COSIM_FAILED     None        18   \n15         gesummv       SUCCESS     SUCCESS       SUCCESS     6289        16   \n16     gramschmidt       SUCCESS     SUCCESS  COSIM_FAILED     None        22   \n17         heat-3d       SUCCESS     SUCCESS  COSIM_FAILED     None       135   \n18       jacobi-1d       SUCCESS     SUCCESS       SUCCESS    19800        14   \n19       jacobi-2d       SUCCESS     SUCCESS       SUCCESS  1106347        25   \n20              lu       SUCCESS     SUCCESS       SUCCESS   209626        29   \n21          ludcmp       SUCCESS     SUCCESS       SUCCESS   180811        16   \n22             mvt       SUCCESS     SUCCESS       SUCCESS    10737        16   \n23        nussinov       SUCCESS     SUCCESS       SUCCESS    92262         5   \n24       seidel-2d       SUCCESS     SUCCESS       SUCCESS  2559789         5   \n25            symm       SUCCESS     SUCCESS       SUCCESS    71922        39   \n26           syr2k       SUCCESS     SUCCESS  COSIM_FAILED     None        21   \n27            syrk       SUCCESS     SUCCESS  COSIM_FAILED     None        21   \n28         trisolv       SUCCESS     SUCCESS       SUCCESS     8197        15   \n29            trmm       SUCCESS     SUCCESS       SUCCESS    50147        22   \n\n   FF_usage LUT_usage BRAM_18K_usage URAM_usage DSP_avail FF_avail LUT_avail  \\\n0     17995     16711              0          0       220   106400     53200   \n1     24775     25744              0          0       220   106400     53200   \n2     10752     13021              0          0       220   106400     53200   \n3      5870      6664              0          0       220   106400     53200   \n4      5896      6660              0          0       220   106400     53200   \n5      5832      7985              0          0       220   106400     53200   \n6     14751     16201              0          0       220   106400     53200   \n7     15810     16816              0          0       220   106400     53200   \n8      None      None           None       None      None     None      None   \n9      3874      4697              0          0       220   106400     53200   \n10     2807      3165              2          0       220   106400     53200   \n11    68166     71276              0          0       220   106400     53200   \n12     2898      2856              0          0       220   106400     53200   \n13     8249      8105              0          0       220   106400     53200   \n14     6068      5960              0          0       220   106400     53200   \n15     3791      4041              0          0       220   106400     53200   \n16     7160      7741              0          0       220   106400     53200   \n17   105115    106030              0          0       220   106400     53200   \n18     8250     12755              0          0       220   106400     53200   \n19    42039     48485              0          0       220   106400     53200   \n20    13138     14273              0          0       220   106400     53200   \n21     3725      4923              0          0       220   106400     53200   \n22     3142      3377              0          0       220   106400     53200   \n23     5310      7641              0          0       220   106400     53200   \n24     7708     10203              0          0       220   106400     53200   \n25     4437      5760              0          0       220   106400     53200   \n26     6166      5919              0          0       220   106400     53200   \n27     5844      5885              0          0       220   106400     53200   \n28     3036      3921              0          0       220   106400     53200   \n29     6976      7571              0          0       220   106400     53200   \n\n   BRAM_18K_avail URAM_avail  \n0             280          0  \n1             280          0  \n2             280          0  \n3             280          0  \n4             280          0  \n5             280          0  \n6             280          0  \n7             280          0  \n8            None       None  \n9             280          0  \n10            280          0  \n11            280          0  \n12            280          0  \n13            280          0  \n14            280          0  \n15            280          0  \n16            280          0  \n17            280          0  \n18            280          0  \n19            280          0  \n20            280          0  \n21            280          0  \n22            280          0  \n23            280          0  \n24            280          0  \n25            280          0  \n26            280          0  \n27            280          0  \n28            280          0  \n29            280          0  "
     },
     "execution_count": 40,
     "metadata": {},
     "output_type": "execute_result"
    }
   ],
   "source": [
    "polymer = pb_utils.to_pandas(pb_utils.process_pb_flow_result_dir(os.path.join(os.getcwd(), 'tmp', 'phism', 'pb-flow.20210526-220244')))\n",
    "polymer"
   ]
  },
  {
   "cell_type": "code",
   "execution_count": 67,
   "metadata": {},
   "outputs": [
    {
     "data": {
      "text/html": "<div>\n<style scoped>\n    .dataframe tbody tr th:only-of-type {\n        vertical-align: middle;\n    }\n\n    .dataframe tbody tr th {\n        vertical-align: top;\n    }\n\n    .dataframe thead th {\n        text-align: right;\n    }\n</style>\n<table border=\"1\" class=\"dataframe\">\n  <thead>\n    <tr style=\"text-align: right;\">\n      <th></th>\n      <th>name</th>\n      <th>base_lat</th>\n      <th>poly_lat</th>\n      <th>incr_lat_pct</th>\n    </tr>\n  </thead>\n  <tbody>\n    <tr>\n      <th>0</th>\n      <td>2mm</td>\n      <td>92642</td>\n      <td>108895</td>\n      <td>17.543879</td>\n    </tr>\n    <tr>\n      <th>1</th>\n      <td>3mm</td>\n      <td>143531</td>\n      <td>173643</td>\n      <td>20.979440</td>\n    </tr>\n    <tr>\n      <th>2</th>\n      <td>bicg</td>\n      <td>10163</td>\n      <td>23798</td>\n      <td>134.163141</td>\n    </tr>\n    <tr>\n      <th>3</th>\n      <td>cholesky</td>\n      <td>277039</td>\n      <td>124925</td>\n      <td>-54.907071</td>\n    </tr>\n    <tr>\n      <th>4</th>\n      <td>covariance</td>\n      <td>109464</td>\n      <td>134618</td>\n      <td>22.979244</td>\n    </tr>\n    <tr>\n      <th>5</th>\n      <td>doitgen</td>\n      <td>81041</td>\n      <td>96242</td>\n      <td>18.757172</td>\n    </tr>\n    <tr>\n      <th>6</th>\n      <td>durbin</td>\n      <td>5462</td>\n      <td>9847</td>\n      <td>80.281948</td>\n    </tr>\n    <tr>\n      <th>7</th>\n      <td>floyd-warshall</td>\n      <td>432081</td>\n      <td>434885</td>\n      <td>0.648952</td>\n    </tr>\n    <tr>\n      <th>8</th>\n      <td>gesummv</td>\n      <td>6151</td>\n      <td>6289</td>\n      <td>2.243538</td>\n    </tr>\n    <tr>\n      <th>9</th>\n      <td>jacobi-1d</td>\n      <td>3141</td>\n      <td>19800</td>\n      <td>530.372493</td>\n    </tr>\n    <tr>\n      <th>10</th>\n      <td>jacobi-2d</td>\n      <td>134461</td>\n      <td>1106347</td>\n      <td>722.801407</td>\n    </tr>\n    <tr>\n      <th>11</th>\n      <td>ludcmp</td>\n      <td>179641</td>\n      <td>180811</td>\n      <td>0.651299</td>\n    </tr>\n    <tr>\n      <th>12</th>\n      <td>mvt</td>\n      <td>20162</td>\n      <td>10737</td>\n      <td>-46.746355</td>\n    </tr>\n    <tr>\n      <th>13</th>\n      <td>nussinov</td>\n      <td>91572</td>\n      <td>92262</td>\n      <td>0.753505</td>\n    </tr>\n    <tr>\n      <th>14</th>\n      <td>seidel-2d</td>\n      <td>2547522</td>\n      <td>2559789</td>\n      <td>0.481527</td>\n    </tr>\n    <tr>\n      <th>15</th>\n      <td>trisolv</td>\n      <td>6512</td>\n      <td>8197</td>\n      <td>25.875307</td>\n    </tr>\n  </tbody>\n</table>\n</div>",
      "text/plain": "              name base_lat poly_lat incr_lat_pct\n0              2mm    92642   108895    17.543879\n1              3mm   143531   173643    20.979440\n2             bicg    10163    23798   134.163141\n3         cholesky   277039   124925   -54.907071\n4       covariance   109464   134618    22.979244\n5          doitgen    81041    96242    18.757172\n6           durbin     5462     9847    80.281948\n7   floyd-warshall   432081   434885     0.648952\n8          gesummv     6151     6289     2.243538\n9        jacobi-1d     3141    19800   530.372493\n10       jacobi-2d   134461  1106347   722.801407\n11          ludcmp   179641   180811     0.651299\n12             mvt    20162    10737   -46.746355\n13        nussinov    91572    92262     0.753505\n14       seidel-2d  2547522  2559789     0.481527\n15         trisolv     6512     8197    25.875307"
     },
     "execution_count": 67,
     "metadata": {},
     "output_type": "execute_result"
    }
   ],
   "source": [
    "base_succ = pb_utils.filter_success(baseline)\n",
    "poly_succ = pb_utils.filter_success(polymer)\n",
    "\n",
    "names = sorted(list(set(base_succ['name']) & set(poly_succ['name'])))\n",
    "\n",
    "df = pd.DataFrame(columns=('name', 'base_lat', 'poly_lat'),\n",
    "                  data=(zip(names,\n",
    "                            base_succ[base_succ['name'].isin(names)]['latency'],\n",
    "                            poly_succ[poly_succ['name'].isin(names)]['latency'])),\n",
    "                  dtype=object)\n",
    "df['incr_lat_pct'] = (df['poly_lat'] - df['base_lat']) / df['base_lat'] * 100\n",
    "df"
   ]
  }
 ],
 "metadata": {
  "interpreter": {
   "hash": "3a63f4a64e07b579e301345ed0f53db531afaf3c3605725bf71976af60b62e12"
  },
  "kernelspec": {
   "display_name": "Python 3",
   "language": "python",
   "name": "python3"
  },
  "language_info": {
   "codemirror_mode": {
    "name": "ipython",
    "version": 3
   },
   "file_extension": ".py",
   "mimetype": "text/x-python",
   "name": "python",
   "nbconvert_exporter": "python",
   "pygments_lexer": "ipython3",
   "version": "3.8.3"
  },
  "orig_nbformat": 2
 },
 "nbformat": 4,
 "nbformat_minor": 2
}