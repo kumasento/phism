{
 "cells": [
  {
   "cell_type": "code",
   "execution_count": 2,
   "metadata": {},
   "outputs": [],
   "source": [
    "%load_ext autoreload\n",
    "%autoreload 2"
   ]
  },
  {
   "cell_type": "code",
   "execution_count": 2,
   "metadata": {},
   "outputs": [],
   "source": [
    "%load_ext autoreload\n",
    "%autoreload 2"
   ]
  },
  {
   "cell_type": "markdown",
   "metadata": {},
   "source": [
    "# Polybench Experimental Results\n",
    "\n",
    "This notebook puts together how we run Polybench experiments using the `pb-flow` script, and how we process the run results to get the formatted table."
   ]
  },
  {
   "cell_type": "markdown",
   "metadata": {},
   "source": [
    "## Setup\n",
    "\n",
    "We need to put the `python/` directory into the `PYTHONPATH`. "
   ]
  },
  {
   "cell_type": "code",
   "execution_count": 3,
   "metadata": {},
   "outputs": [],
   "source": [
    "import sys\n",
    "import os\n",
    "\n",
    "sys.path.append(os.path.dirname(os.path.realpath(os.getcwd())))"
   ]
  },
  {
   "cell_type": "code",
   "execution_count": 4,
   "metadata": {},
   "outputs": [],
   "source": [
    "import python.utils.polybench as pb_utils"
   ]
  },
  {
   "cell_type": "markdown",
   "metadata": {},
   "source": [
    "## Run `pb-flow`"
   ]
  },
  {
   "cell_type": "markdown",
   "metadata": {},
   "source": [
    "## Run without Polymer\n",
    "\n",
    "The following line starts 30 `pb-flow` jobs in parallel (you may turn that down a bit if your machine is less capable of doing so). All these jobs use the $\\Phi_{sm}$ framework without polyhedral transformation, i.e., Polymer is turned down.\n",
    "\n",
    "Note that `cosim` is set to `True`, so the co-simulation will be launched to verify the results."
   ]
  },
  {
   "cell_type": "code",
   "execution_count": 5,
   "metadata": {},
   "outputs": [
    {
     "name": "stdout",
     "output_type": "stream",
     "text": [
      ">>> Starting 30 jobs ...\n",
      ">>> Running on /mnt/ccnas2/bdp/rz3515/projects/phism/tmp/phism/pb-flow.20210524-134708/medley/deriche ...>>> Running on /mnt/ccnas2/bdp/rz3515/projects/phism/tmp/phism/pb-flow.20210524-134708/stencils/jacobi-1d ...>>> Running on /mnt/ccnas2/bdp/rz3515/projects/phism/tmp/phism/pb-flow.20210524-134708/medley/floyd-warshall ...\n",
      ">>> Running on /mnt/ccnas2/bdp/rz3515/projects/phism/tmp/phism/pb-flow.20210524-134708/stencils/heat-3d ...>>> Running on /mnt/ccnas2/bdp/rz3515/projects/phism/tmp/phism/pb-flow.20210524-134708/stencils/jacobi-2d ...\n",
      "\n",
      ">>> Running on /mnt/ccnas2/bdp/rz3515/projects/phism/tmp/phism/pb-flow.20210524-134708/linear-algebra/solvers/gramschmidt ...>>> Running on /mnt/ccnas2/bdp/rz3515/projects/phism/tmp/phism/pb-flow.20210524-134708/linear-algebra/blas/syrk ...>>> Running on /mnt/ccnas2/bdp/rz3515/projects/phism/tmp/phism/pb-flow.20210524-134708/linear-algebra/solvers/trisolv ...>>> Running on /mnt/ccnas2/bdp/rz3515/projects/phism/tmp/phism/pb-flow.20210524-134708/linear-algebra/solvers/lu ...>>> Running on /mnt/ccnas2/bdp/rz3515/projects/phism/tmp/phism/pb-flow.20210524-134708/linear-algebra/solvers/ludcmp ...>>> Running on /mnt/ccnas2/bdp/rz3515/projects/phism/tmp/phism/pb-flow.20210524-134708/stencils/adi ...>>> Running on /mnt/ccnas2/bdp/rz3515/projects/phism/tmp/phism/pb-flow.20210524-134708/linear-algebra/solvers/durbin ...\n",
      ">>> Running on /mnt/ccnas2/bdp/rz3515/projects/phism/tmp/phism/pb-flow.20210524-134708/linear-algebra/blas/gemm ...\n",
      ">>> Running on /mnt/ccnas2/bdp/rz3515/projects/phism/tmp/phism/pb-flow.20210524-134708/linear-algebra/blas/trmm ...>>> Running on /mnt/ccnas2/bdp/rz3515/projects/phism/tmp/phism/pb-flow.20210524-134708/linear-algebra/blas/gemver ...\n",
      ">>> Running on /mnt/ccnas2/bdp/rz3515/projects/phism/tmp/phism/pb-flow.20210524-134708/linear-algebra/solvers/cholesky ...\n",
      ">>> Running on /mnt/ccnas2/bdp/rz3515/projects/phism/tmp/phism/pb-flow.20210524-134708/linear-algebra/kernels/2mm ...>>> Running on /mnt/ccnas2/bdp/rz3515/projects/phism/tmp/phism/pb-flow.20210524-134708/linear-algebra/kernels/mvt ...>>> Running on /mnt/ccnas2/bdp/rz3515/projects/phism/tmp/phism/pb-flow.20210524-134708/linear-algebra/blas/symm ...\n",
      ">>> Running on /mnt/ccnas2/bdp/rz3515/projects/phism/tmp/phism/pb-flow.20210524-134708/linear-algebra/blas/syr2k ...>>> Running on /mnt/ccnas2/bdp/rz3515/projects/phism/tmp/phism/pb-flow.20210524-134708/linear-algebra/blas/gesummv ..."
     ]
    }
   ],
   "source": [
    "pb_utils.pb_flow_runner(pb_utils.PbFlowOptions(**{\n",
    "  'pb_dir': os.path.join(pb_utils.get_project_root(), 'example', 'polybench'),\n",
    "  'job': 30,\n",
    "  'polymer': False,\n",
    "  'cosim': True,\n",
    "  'debug': True,\n",
    "  'dataset': 'MINI',\n",
    "  'cleanup': False\n",
    "}))"
   ]
  },
  {
   "cell_type": "code",
   "execution_count": 62,
   "metadata": {},
   "outputs": [
    {
     "data": {
      "text/html": "<div>\n<style scoped>\n    .dataframe tbody tr th:only-of-type {\n        vertical-align: middle;\n    }\n\n    .dataframe tbody tr th {\n        vertical-align: top;\n    }\n\n    .dataframe thead th {\n        text-align: right;\n    }\n</style>\n<table border=\"1\" class=\"dataframe\">\n  <thead>\n    <tr style=\"text-align: right;\">\n      <th></th>\n      <th>name</th>\n      <th>latency</th>\n      <th>DSP_usage</th>\n      <th>FF_usage</th>\n      <th>LUT_usage</th>\n      <th>BRAM_18K_usage</th>\n      <th>URAM_usage</th>\n      <th>DSP_avail</th>\n      <th>FF_avail</th>\n      <th>LUT_avail</th>\n      <th>BRAM_18K_avail</th>\n      <th>URAM_avail</th>\n    </tr>\n  </thead>\n  <tbody>\n    <tr>\n      <th>0</th>\n      <td>2mm</td>\n      <td>92642</td>\n      <td>108</td>\n      <td>635225</td>\n      <td>487545</td>\n      <td>0</td>\n      <td>0</td>\n      <td>220</td>\n      <td>106400</td>\n      <td>53200</td>\n      <td>280</td>\n      <td>0</td>\n    </tr>\n    <tr>\n      <th>1</th>\n      <td>3mm</td>\n      <td>143531</td>\n      <td>234</td>\n      <td>9044</td>\n      <td>9583</td>\n      <td>0</td>\n      <td>0</td>\n      <td>220</td>\n      <td>106400</td>\n      <td>53200</td>\n      <td>280</td>\n      <td>0</td>\n    </tr>\n    <tr>\n      <th>2</th>\n      <td>adi</td>\n      <td>768392</td>\n      <td>60</td>\n      <td>23016</td>\n      <td>21038</td>\n      <td>0</td>\n      <td>0</td>\n      <td>220</td>\n      <td>106400</td>\n      <td>53200</td>\n      <td>280</td>\n      <td>0</td>\n    </tr>\n    <tr>\n      <th>3</th>\n      <td>atax</td>\n      <td>12243</td>\n      <td>18</td>\n      <td>3169</td>\n      <td>3633</td>\n      <td>0</td>\n      <td>0</td>\n      <td>220</td>\n      <td>106400</td>\n      <td>53200</td>\n      <td>280</td>\n      <td>0</td>\n    </tr>\n    <tr>\n      <th>4</th>\n      <td>bicg</td>\n      <td>10163</td>\n      <td>18</td>\n      <td>3169</td>\n      <td>3629</td>\n      <td>0</td>\n      <td>0</td>\n      <td>220</td>\n      <td>106400</td>\n      <td>53200</td>\n      <td>280</td>\n      <td>0</td>\n    </tr>\n    <tr>\n      <th>5</th>\n      <td>cholesky</td>\n      <td>179578</td>\n      <td>106</td>\n      <td>105449</td>\n      <td>80869</td>\n      <td>0</td>\n      <td>0</td>\n      <td>220</td>\n      <td>106400</td>\n      <td>53200</td>\n      <td>280</td>\n      <td>0</td>\n    </tr>\n    <tr>\n      <th>6</th>\n      <td>correlation</td>\n      <td>92251</td>\n      <td>17</td>\n      <td>4372</td>\n      <td>5636</td>\n      <td>0</td>\n      <td>0</td>\n      <td>220</td>\n      <td>106400</td>\n      <td>53200</td>\n      <td>280</td>\n      <td>0</td>\n    </tr>\n    <tr>\n      <th>7</th>\n      <td>covariance</td>\n      <td>103199</td>\n      <td>14</td>\n      <td>2950</td>\n      <td>3675</td>\n      <td>0</td>\n      <td>0</td>\n      <td>220</td>\n      <td>106400</td>\n      <td>53200</td>\n      <td>280</td>\n      <td>0</td>\n    </tr>\n    <tr>\n      <th>8</th>\n      <td>deriche</td>\n      <td>237664</td>\n      <td>None</td>\n      <td>None</td>\n      <td>None</td>\n      <td>None</td>\n      <td>None</td>\n      <td>None</td>\n      <td>None</td>\n      <td>None</td>\n      <td>None</td>\n      <td>None</td>\n    </tr>\n    <tr>\n      <th>9</th>\n      <td>doitgen</td>\n      <td>80961</td>\n      <td>16</td>\n      <td>3874</td>\n      <td>4697</td>\n      <td>0</td>\n      <td>0</td>\n      <td>220</td>\n      <td>106400</td>\n      <td>53200</td>\n      <td>280</td>\n      <td>0</td>\n    </tr>\n    <tr>\n      <th>10</th>\n      <td>durbin</td>\n      <td>5462</td>\n      <td>14</td>\n      <td>2685</td>\n      <td>3596</td>\n      <td>2</td>\n      <td>0</td>\n      <td>220</td>\n      <td>106400</td>\n      <td>53200</td>\n      <td>280</td>\n      <td>0</td>\n    </tr>\n    <tr>\n      <th>11</th>\n      <td>fdtd-2d</td>\n      <td>36422</td>\n      <td>20</td>\n      <td>20851</td>\n      <td>24295</td>\n      <td>0</td>\n      <td>0</td>\n      <td>220</td>\n      <td>106400</td>\n      <td>53200</td>\n      <td>280</td>\n      <td>0</td>\n    </tr>\n    <tr>\n      <th>12</th>\n      <td>gemm</td>\n      <td>121001</td>\n      <td>125</td>\n      <td>5123</td>\n      <td>5344</td>\n      <td>0</td>\n      <td>0</td>\n      <td>220</td>\n      <td>106400</td>\n      <td>53200</td>\n      <td>280</td>\n      <td>0</td>\n    </tr>\n    <tr>\n      <th>13</th>\n      <td>gemver</td>\n      <td>22395</td>\n      <td>16</td>\n      <td>4106</td>\n      <td>3970</td>\n      <td>0</td>\n      <td>0</td>\n      <td>220</td>\n      <td>106400</td>\n      <td>53200</td>\n      <td>280</td>\n      <td>0</td>\n    </tr>\n    <tr>\n      <th>14</th>\n      <td>gesummv</td>\n      <td>1681</td>\n      <td>56</td>\n      <td>17533</td>\n      <td>10748</td>\n      <td>0</td>\n      <td>0</td>\n      <td>220</td>\n      <td>106400</td>\n      <td>53200</td>\n      <td>280</td>\n      <td>0</td>\n    </tr>\n    <tr>\n      <th>15</th>\n      <td>gramschmidt</td>\n      <td>79126</td>\n      <td>32</td>\n      <td>34506</td>\n      <td>28039</td>\n      <td>0</td>\n      <td>0</td>\n      <td>220</td>\n      <td>106400</td>\n      <td>53200</td>\n      <td>280</td>\n      <td>0</td>\n    </tr>\n    <tr>\n      <th>16</th>\n      <td>lu</td>\n      <td>261946</td>\n      <td>29</td>\n      <td>14775</td>\n      <td>16735</td>\n      <td>0</td>\n      <td>0</td>\n      <td>220</td>\n      <td>106400</td>\n      <td>53200</td>\n      <td>280</td>\n      <td>0</td>\n    </tr>\n    <tr>\n      <th>17</th>\n      <td>ludcmp</td>\n      <td>179640</td>\n      <td>108</td>\n      <td>31785</td>\n      <td>32679</td>\n      <td>0</td>\n      <td>0</td>\n      <td>220</td>\n      <td>106400</td>\n      <td>53200</td>\n      <td>280</td>\n      <td>0</td>\n    </tr>\n    <tr>\n      <th>18</th>\n      <td>mvt</td>\n      <td>20162</td>\n      <td>14</td>\n      <td>2054</td>\n      <td>2498</td>\n      <td>0</td>\n      <td>0</td>\n      <td>220</td>\n      <td>106400</td>\n      <td>53200</td>\n      <td>280</td>\n      <td>0</td>\n    </tr>\n    <tr>\n      <th>19</th>\n      <td>nussinov</td>\n      <td>93223</td>\n      <td>71</td>\n      <td>17998</td>\n      <td>22110</td>\n      <td>0</td>\n      <td>0</td>\n      <td>220</td>\n      <td>106400</td>\n      <td>53200</td>\n      <td>280</td>\n      <td>0</td>\n    </tr>\n    <tr>\n      <th>20</th>\n      <td>symm</td>\n      <td>59131</td>\n      <td>91</td>\n      <td>81422</td>\n      <td>59056</td>\n      <td>0</td>\n      <td>0</td>\n      <td>220</td>\n      <td>106400</td>\n      <td>53200</td>\n      <td>280</td>\n      <td>0</td>\n    </tr>\n    <tr>\n      <th>21</th>\n      <td>syr2k</td>\n      <td>75886</td>\n      <td>14</td>\n      <td>7841</td>\n      <td>4613</td>\n      <td>0</td>\n      <td>0</td>\n      <td>220</td>\n      <td>106400</td>\n      <td>53200</td>\n      <td>280</td>\n      <td>0</td>\n    </tr>\n    <tr>\n      <th>22</th>\n      <td>syrk</td>\n      <td>75616</td>\n      <td>223</td>\n      <td>11502</td>\n      <td>15045</td>\n      <td>0</td>\n      <td>0</td>\n      <td>220</td>\n      <td>106400</td>\n      <td>53200</td>\n      <td>280</td>\n      <td>0</td>\n    </tr>\n    <tr>\n      <th>23</th>\n      <td>trisolv</td>\n      <td>6521</td>\n      <td>15</td>\n      <td>2825</td>\n      <td>3923</td>\n      <td>0</td>\n      <td>0</td>\n      <td>220</td>\n      <td>106400</td>\n      <td>53200</td>\n      <td>280</td>\n      <td>0</td>\n    </tr>\n    <tr>\n      <th>24</th>\n      <td>trmm</td>\n      <td>56191</td>\n      <td>14</td>\n      <td>4243</td>\n      <td>6121</td>\n      <td>0</td>\n      <td>0</td>\n      <td>220</td>\n      <td>106400</td>\n      <td>53200</td>\n      <td>280</td>\n      <td>0</td>\n    </tr>\n  </tbody>\n</table>\n</div>",
      "text/plain": "           name latency DSP_usage FF_usage LUT_usage BRAM_18K_usage  \\\n0           2mm   92642       108   635225    487545              0   \n1           3mm  143531       234     9044      9583              0   \n2           adi  768392        60    23016     21038              0   \n3          atax   12243        18     3169      3633              0   \n4          bicg   10163        18     3169      3629              0   \n5      cholesky  179578       106   105449     80869              0   \n6   correlation   92251        17     4372      5636              0   \n7    covariance  103199        14     2950      3675              0   \n8       deriche  237664      None     None      None           None   \n9       doitgen   80961        16     3874      4697              0   \n10       durbin    5462        14     2685      3596              2   \n11      fdtd-2d   36422        20    20851     24295              0   \n12         gemm  121001       125     5123      5344              0   \n13       gemver   22395        16     4106      3970              0   \n14      gesummv    1681        56    17533     10748              0   \n15  gramschmidt   79126        32    34506     28039              0   \n16           lu  261946        29    14775     16735              0   \n17       ludcmp  179640       108    31785     32679              0   \n18          mvt   20162        14     2054      2498              0   \n19     nussinov   93223        71    17998     22110              0   \n20         symm   59131        91    81422     59056              0   \n21        syr2k   75886        14     7841      4613              0   \n22         syrk   75616       223    11502     15045              0   \n23      trisolv    6521        15     2825      3923              0   \n24         trmm   56191        14     4243      6121              0   \n\n   URAM_usage DSP_avail FF_avail LUT_avail BRAM_18K_avail URAM_avail  \n0           0       220   106400     53200            280          0  \n1           0       220   106400     53200            280          0  \n2           0       220   106400     53200            280          0  \n3           0       220   106400     53200            280          0  \n4           0       220   106400     53200            280          0  \n5           0       220   106400     53200            280          0  \n6           0       220   106400     53200            280          0  \n7           0       220   106400     53200            280          0  \n8        None      None     None      None           None       None  \n9           0       220   106400     53200            280          0  \n10          0       220   106400     53200            280          0  \n11          0       220   106400     53200            280          0  \n12          0       220   106400     53200            280          0  \n13          0       220   106400     53200            280          0  \n14          0       220   106400     53200            280          0  \n15          0       220   106400     53200            280          0  \n16          0       220   106400     53200            280          0  \n17          0       220   106400     53200            280          0  \n18          0       220   106400     53200            280          0  \n19          0       220   106400     53200            280          0  \n20          0       220   106400     53200            280          0  \n21          0       220   106400     53200            280          0  \n22          0       220   106400     53200            280          0  \n23          0       220   106400     53200            280          0  \n24          0       220   106400     53200            280          0  "
     },
     "execution_count": 62,
     "metadata": {},
     "output_type": "execute_result"
    }
   ],
   "source": [
    "pb_utils.to_pandas(pb_utils.process_pb_flow_result_dir(os.path.join(os.getcwd(), '..', 'tmp', 'phism', 'pb-flow.20210517-223848')))"
   ]
  }
 ],
 "metadata": {
  "interpreter": {
   "hash": "3a63f4a64e07b579e301345ed0f53db531afaf3c3605725bf71976af60b62e12"
  },
  "kernelspec": {
   "display_name": "Python 3",
   "language": "python",
   "name": "python3"
  },
  "language_info": {
   "codemirror_mode": {
    "name": "ipython",
    "version": 3
   },
   "file_extension": ".py",
   "mimetype": "text/x-python",
   "name": "python",
   "nbconvert_exporter": "python",
   "pygments_lexer": "ipython3",
   "version": "3.8.3"
  },
  "orig_nbformat": 2
 },
 "nbformat": 4,
 "nbformat_minor": 2
}